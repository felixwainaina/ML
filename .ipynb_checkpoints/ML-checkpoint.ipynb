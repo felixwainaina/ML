{
 "cells": [
  {
   "cell_type": "code",
   "execution_count": 4,
   "metadata": {
    "collapsed": true
   },
   "outputs": [
    {
     "name": "stdout",
     "output_type": "stream",
     "text": [
      "Requirement already satisfied: catboost in c:\\users\\dr. kimani\\appdata\\roaming\\python\\python39\\site-packages (1.0.5)\n",
      "Requirement already satisfied: scipy in c:\\users\\dr. kimani\\appdata\\roaming\\python\\python39\\site-packages (from catboost) (1.8.0)\n",
      "Requirement already satisfied: matplotlib in c:\\users\\dr. kimani\\appdata\\roaming\\python\\python39\\site-packages (from catboost) (3.5.1)\n",
      "Requirement already satisfied: graphviz in c:\\users\\dr. kimani\\appdata\\roaming\\python\\python39\\site-packages (from catboost) (0.20)\n",
      "Requirement already satisfied: pandas>=0.24.0 in c:\\users\\dr. kimani\\appdata\\roaming\\python\\python39\\site-packages (from catboost) (1.4.2)\n",
      "Requirement already satisfied: numpy>=1.16.0 in c:\\users\\dr. kimani\\appdata\\roaming\\python\\python39\\site-packages (from catboost) (1.22.3)\n",
      "Requirement already satisfied: six in c:\\users\\dr. kimani\\appdata\\local\\programs\\python\\python39\\lib\\site-packages (from catboost) (1.16.0)\n",
      "Requirement already satisfied: plotly in c:\\users\\dr. kimani\\appdata\\roaming\\python\\python39\\site-packages (from catboost) (5.7.0)\n",
      "Requirement already satisfied: pytz>=2020.1 in c:\\users\\dr. kimani\\appdata\\roaming\\python\\python39\\site-packages (from pandas>=0.24.0->catboost) (2022.1)\n",
      "Requirement already satisfied: python-dateutil>=2.8.1 in c:\\users\\dr. kimani\\appdata\\local\\programs\\python\\python39\\lib\\site-packages (from pandas>=0.24.0->catboost) (2.8.2)\n",
      "Requirement already satisfied: kiwisolver>=1.0.1 in c:\\users\\dr. kimani\\appdata\\roaming\\python\\python39\\site-packages (from matplotlib->catboost) (1.4.2)\n",
      "Requirement already satisfied: packaging>=20.0 in c:\\users\\dr. kimani\\appdata\\local\\programs\\python\\python39\\lib\\site-packages (from matplotlib->catboost) (21.3)\n",
      "Requirement already satisfied: cycler>=0.10 in c:\\users\\dr. kimani\\appdata\\roaming\\python\\python39\\site-packages (from matplotlib->catboost) (0.11.0)\n",
      "Requirement already satisfied: pyparsing>=2.2.1 in c:\\users\\dr. kimani\\appdata\\local\\programs\\python\\python39\\lib\\site-packages (from matplotlib->catboost) (3.0.8)\n",
      "Requirement already satisfied: fonttools>=4.22.0 in c:\\users\\dr. kimani\\appdata\\roaming\\python\\python39\\site-packages (from matplotlib->catboost) (4.33.2)\n",
      "Requirement already satisfied: pillow>=6.2.0 in c:\\users\\dr. kimani\\appdata\\roaming\\python\\python39\\site-packages (from matplotlib->catboost) (9.1.0)\n",
      "Requirement already satisfied: tenacity>=6.2.0 in c:\\users\\dr. kimani\\appdata\\roaming\\python\\python39\\site-packages (from plotly->catboost) (8.0.1)\n"
     ]
    }
   ],
   "source": [
    "!pip install catboost"
   ]
  },
  {
   "cell_type": "code",
   "execution_count": 5,
   "metadata": {
    "pycharm": {
     "name": "#%%\n"
    }
   },
   "outputs": [],
   "source": [
    "#load necessary libraries\n",
    "import pandas as pd\n",
    "import numpy as np\n",
    "\n",
    "import matplotlib.pyplot as plt\n",
    "# matplotlib inline\n",
    "import seaborn as sns\n",
    "\n",
    "from sklearn.metrics import roc_auc_score\n",
    "from sklearn.metrics import plot_roc_curve\n",
    "from sklearn.model_selection import train_test_split, cross_val_score, GridSearchCV\n",
    "\n",
    "from sklearn.linear_model import LogisticRegression\n",
    "from sklearn.neighbors import KNeighborsClassifier\n",
    "from sklearn.svm import SVC\n",
    "from sklearn.ensemble import RandomForestClassifier\n",
    "from catboost import CatBoostClassifier\n",
    "from xgboost import XGBClassifier\n",
    "from sklearn.ensemble import GradientBoostingClassifier\n",
    "from lightgbm import LGBMClassifier\n",
    "from sklearn.ensemble import VotingClassifier\n",
    "\n",
    "from sklearn.preprocessing import StandardScaler\n",
    "from sklearn.metrics import accuracy_score, f1_score, classification_report\n",
    "\n",
    "import os, sys\n",
    "import warnings\n",
    "\n",
    "warnings.filterwarnings('ignore')"
   ]
  },
  {
   "cell_type": "code",
   "execution_count": 6,
   "metadata": {
    "pycharm": {
     "name": "#%%\n"
    }
   },
   "outputs": [],
   "source": [
    "#load dataset\n",
    "churn = pd.read_csv('banking_churn.csv')\n",
    "data = churn.copy()"
   ]
  },
  {
   "cell_type": "code",
   "execution_count": 7,
   "metadata": {
    "pycharm": {
     "name": "#%%\n"
    }
   },
   "outputs": [
    {
     "data": {
      "text/plain": [
       "(10000, 14)"
      ]
     },
     "execution_count": 7,
     "metadata": {},
     "output_type": "execute_result"
    }
   ],
   "source": [
    "#check size of the observation and variable\n",
    "data.shape"
   ]
  },
  {
   "cell_type": "code",
   "execution_count": 8,
   "metadata": {
    "pycharm": {
     "name": "#%%\n"
    }
   },
   "outputs": [
    {
     "data": {
      "text/html": [
       "<div>\n",
       "<style scoped>\n",
       "    .dataframe tbody tr th:only-of-type {\n",
       "        vertical-align: middle;\n",
       "    }\n",
       "\n",
       "    .dataframe tbody tr th {\n",
       "        vertical-align: top;\n",
       "    }\n",
       "\n",
       "    .dataframe thead th {\n",
       "        text-align: right;\n",
       "    }\n",
       "</style>\n",
       "<table border=\"1\" class=\"dataframe\">\n",
       "  <thead>\n",
       "    <tr style=\"text-align: right;\">\n",
       "      <th></th>\n",
       "      <th>RowNumber</th>\n",
       "      <th>CustomerId</th>\n",
       "      <th>Surname</th>\n",
       "      <th>CreditScore</th>\n",
       "      <th>Geography</th>\n",
       "      <th>Gender</th>\n",
       "      <th>Age</th>\n",
       "      <th>Tenure</th>\n",
       "      <th>Balance</th>\n",
       "      <th>NumOfProducts</th>\n",
       "      <th>HasCrCard</th>\n",
       "      <th>IsActiveMember</th>\n",
       "      <th>EstimatedSalary</th>\n",
       "      <th>Exited</th>\n",
       "    </tr>\n",
       "  </thead>\n",
       "  <tbody>\n",
       "    <tr>\n",
       "      <th>0</th>\n",
       "      <td>1</td>\n",
       "      <td>15634602</td>\n",
       "      <td>Hargrave</td>\n",
       "      <td>619</td>\n",
       "      <td>France</td>\n",
       "      <td>Female</td>\n",
       "      <td>42</td>\n",
       "      <td>2</td>\n",
       "      <td>0.00</td>\n",
       "      <td>1</td>\n",
       "      <td>1</td>\n",
       "      <td>1</td>\n",
       "      <td>101348.88</td>\n",
       "      <td>1</td>\n",
       "    </tr>\n",
       "    <tr>\n",
       "      <th>1</th>\n",
       "      <td>2</td>\n",
       "      <td>15647311</td>\n",
       "      <td>Hill</td>\n",
       "      <td>608</td>\n",
       "      <td>Spain</td>\n",
       "      <td>Female</td>\n",
       "      <td>41</td>\n",
       "      <td>1</td>\n",
       "      <td>83807.86</td>\n",
       "      <td>1</td>\n",
       "      <td>0</td>\n",
       "      <td>1</td>\n",
       "      <td>112542.58</td>\n",
       "      <td>0</td>\n",
       "    </tr>\n",
       "    <tr>\n",
       "      <th>2</th>\n",
       "      <td>3</td>\n",
       "      <td>15619304</td>\n",
       "      <td>Onio</td>\n",
       "      <td>502</td>\n",
       "      <td>France</td>\n",
       "      <td>Female</td>\n",
       "      <td>42</td>\n",
       "      <td>8</td>\n",
       "      <td>159660.80</td>\n",
       "      <td>3</td>\n",
       "      <td>1</td>\n",
       "      <td>0</td>\n",
       "      <td>113931.57</td>\n",
       "      <td>1</td>\n",
       "    </tr>\n",
       "    <tr>\n",
       "      <th>3</th>\n",
       "      <td>4</td>\n",
       "      <td>15701354</td>\n",
       "      <td>Boni</td>\n",
       "      <td>699</td>\n",
       "      <td>France</td>\n",
       "      <td>Female</td>\n",
       "      <td>39</td>\n",
       "      <td>1</td>\n",
       "      <td>0.00</td>\n",
       "      <td>2</td>\n",
       "      <td>0</td>\n",
       "      <td>0</td>\n",
       "      <td>93826.63</td>\n",
       "      <td>0</td>\n",
       "    </tr>\n",
       "    <tr>\n",
       "      <th>4</th>\n",
       "      <td>5</td>\n",
       "      <td>15737888</td>\n",
       "      <td>Mitchell</td>\n",
       "      <td>850</td>\n",
       "      <td>Spain</td>\n",
       "      <td>Female</td>\n",
       "      <td>43</td>\n",
       "      <td>2</td>\n",
       "      <td>125510.82</td>\n",
       "      <td>1</td>\n",
       "      <td>1</td>\n",
       "      <td>1</td>\n",
       "      <td>79084.10</td>\n",
       "      <td>0</td>\n",
       "    </tr>\n",
       "  </tbody>\n",
       "</table>\n",
       "</div>"
      ],
      "text/plain": [
       "   RowNumber  CustomerId   Surname  CreditScore Geography  Gender  Age  \\\n",
       "0          1    15634602  Hargrave          619    France  Female   42   \n",
       "1          2    15647311      Hill          608     Spain  Female   41   \n",
       "2          3    15619304      Onio          502    France  Female   42   \n",
       "3          4    15701354      Boni          699    France  Female   39   \n",
       "4          5    15737888  Mitchell          850     Spain  Female   43   \n",
       "\n",
       "   Tenure    Balance  NumOfProducts  HasCrCard  IsActiveMember  \\\n",
       "0       2       0.00              1          1               1   \n",
       "1       1   83807.86              1          0               1   \n",
       "2       8  159660.80              3          1               0   \n",
       "3       1       0.00              2          0               0   \n",
       "4       2  125510.82              1          1               1   \n",
       "\n",
       "   EstimatedSalary  Exited  \n",
       "0        101348.88       1  \n",
       "1        112542.58       0  \n",
       "2        113931.57       1  \n",
       "3         93826.63       0  \n",
       "4         79084.10       0  "
      ]
     },
     "execution_count": 8,
     "metadata": {},
     "output_type": "execute_result"
    }
   ],
   "source": [
    "#load the first 5 data in the dataset\n",
    "data.head()"
   ]
  },
  {
   "cell_type": "code",
   "execution_count": 9,
   "metadata": {
    "pycharm": {
     "name": "#%%\n"
    }
   },
   "outputs": [
    {
     "data": {
      "text/plain": [
       "Index(['RowNumber', 'CustomerId', 'Surname', 'CreditScore', 'Geography',\n",
       "       'Gender', 'Age', 'Tenure', 'Balance', 'NumOfProducts', 'HasCrCard',\n",
       "       'IsActiveMember', 'EstimatedSalary', 'Exited'],\n",
       "      dtype='object')"
      ]
     },
     "execution_count": 9,
     "metadata": {},
     "output_type": "execute_result"
    }
   ],
   "source": [
    "#load columns in the datasets\n",
    "data.columns"
   ]
  },
  {
   "cell_type": "code",
   "execution_count": 10,
   "metadata": {
    "pycharm": {
     "name": "#%%\n"
    }
   },
   "outputs": [
    {
     "name": "stdout",
     "output_type": "stream",
     "text": [
      "<class 'pandas.core.frame.DataFrame'>\n",
      "RangeIndex: 10000 entries, 0 to 9999\n",
      "Data columns (total 14 columns):\n",
      " #   Column           Non-Null Count  Dtype  \n",
      "---  ------           --------------  -----  \n",
      " 0   RowNumber        10000 non-null  int64  \n",
      " 1   CustomerId       10000 non-null  int64  \n",
      " 2   Surname          10000 non-null  object \n",
      " 3   CreditScore      10000 non-null  int64  \n",
      " 4   Geography        10000 non-null  object \n",
      " 5   Gender           10000 non-null  object \n",
      " 6   Age              10000 non-null  int64  \n",
      " 7   Tenure           10000 non-null  int64  \n",
      " 8   Balance          10000 non-null  float64\n",
      " 9   NumOfProducts    10000 non-null  int64  \n",
      " 10  HasCrCard        10000 non-null  int64  \n",
      " 11  IsActiveMember   10000 non-null  int64  \n",
      " 12  EstimatedSalary  10000 non-null  float64\n",
      " 13  Exited           10000 non-null  int64  \n",
      "dtypes: float64(2), int64(9), object(3)\n",
      "memory usage: 1.1+ MB\n"
     ]
    }
   ],
   "source": [
    "#load information about the dataset\n",
    "data.info()"
   ]
  },
  {
   "cell_type": "code",
   "execution_count": 11,
   "metadata": {
    "pycharm": {
     "name": "#%%\n"
    }
   },
   "outputs": [
    {
     "data": {
      "text/plain": [
       "RowNumber          False\n",
       "CustomerId         False\n",
       "Surname            False\n",
       "CreditScore        False\n",
       "Geography          False\n",
       "Gender             False\n",
       "Age                False\n",
       "Tenure             False\n",
       "Balance            False\n",
       "NumOfProducts      False\n",
       "HasCrCard          False\n",
       "IsActiveMember     False\n",
       "EstimatedSalary    False\n",
       "Exited             False\n",
       "dtype: bool"
      ]
     },
     "execution_count": 11,
     "metadata": {},
     "output_type": "execute_result"
    }
   ],
   "source": [
    "# observation\n",
    "#checking for missing data\n",
    "data.isnull().any()"
   ]
  },
  {
   "cell_type": "code",
   "execution_count": 12,
   "metadata": {
    "pycharm": {
     "name": "#%%\n"
    }
   },
   "outputs": [
    {
     "data": {
      "text/plain": [
       "Index(['CreditScore', 'Geography', 'Gender', 'Age', 'Tenure', 'Balance',\n",
       "       'NumOfProducts', 'HasCrCard', 'IsActiveMember', 'EstimatedSalary',\n",
       "       'Exited'],\n",
       "      dtype='object')"
      ]
     },
     "execution_count": 12,
     "metadata": {},
     "output_type": "execute_result"
    }
   ],
   "source": [
    "data.drop([\"RowNumber\",\"CustomerId\",\"Surname\"], axis = 1 , inplace = True)\n",
    "data.columns"
   ]
  },
  {
   "cell_type": "code",
   "execution_count": 13,
   "metadata": {
    "pycharm": {
     "name": "#%%\n"
    }
   },
   "outputs": [
    {
     "data": {
      "text/html": [
       "<div>\n",
       "<style scoped>\n",
       "    .dataframe tbody tr th:only-of-type {\n",
       "        vertical-align: middle;\n",
       "    }\n",
       "\n",
       "    .dataframe tbody tr th {\n",
       "        vertical-align: top;\n",
       "    }\n",
       "\n",
       "    .dataframe thead th {\n",
       "        text-align: right;\n",
       "    }\n",
       "</style>\n",
       "<table border=\"1\" class=\"dataframe\">\n",
       "  <thead>\n",
       "    <tr style=\"text-align: right;\">\n",
       "      <th></th>\n",
       "      <th>CreditScore</th>\n",
       "      <th>Age</th>\n",
       "      <th>Tenure</th>\n",
       "      <th>Balance</th>\n",
       "      <th>NumOfProducts</th>\n",
       "      <th>HasCrCard</th>\n",
       "      <th>IsActiveMember</th>\n",
       "      <th>EstimatedSalary</th>\n",
       "      <th>Exited</th>\n",
       "    </tr>\n",
       "  </thead>\n",
       "  <tbody>\n",
       "    <tr>\n",
       "      <th>count</th>\n",
       "      <td>10000.000000</td>\n",
       "      <td>10000.000000</td>\n",
       "      <td>10000.000000</td>\n",
       "      <td>10000.000000</td>\n",
       "      <td>10000.000000</td>\n",
       "      <td>10000.00000</td>\n",
       "      <td>10000.000000</td>\n",
       "      <td>10000.000000</td>\n",
       "      <td>10000.000000</td>\n",
       "    </tr>\n",
       "    <tr>\n",
       "      <th>mean</th>\n",
       "      <td>650.528800</td>\n",
       "      <td>38.921800</td>\n",
       "      <td>5.012800</td>\n",
       "      <td>76485.889288</td>\n",
       "      <td>1.530200</td>\n",
       "      <td>0.70550</td>\n",
       "      <td>0.515100</td>\n",
       "      <td>100090.239881</td>\n",
       "      <td>0.203700</td>\n",
       "    </tr>\n",
       "    <tr>\n",
       "      <th>std</th>\n",
       "      <td>96.653299</td>\n",
       "      <td>10.487806</td>\n",
       "      <td>2.892174</td>\n",
       "      <td>62397.405202</td>\n",
       "      <td>0.581654</td>\n",
       "      <td>0.45584</td>\n",
       "      <td>0.499797</td>\n",
       "      <td>57510.492818</td>\n",
       "      <td>0.402769</td>\n",
       "    </tr>\n",
       "    <tr>\n",
       "      <th>min</th>\n",
       "      <td>350.000000</td>\n",
       "      <td>18.000000</td>\n",
       "      <td>0.000000</td>\n",
       "      <td>0.000000</td>\n",
       "      <td>1.000000</td>\n",
       "      <td>0.00000</td>\n",
       "      <td>0.000000</td>\n",
       "      <td>11.580000</td>\n",
       "      <td>0.000000</td>\n",
       "    </tr>\n",
       "    <tr>\n",
       "      <th>25%</th>\n",
       "      <td>584.000000</td>\n",
       "      <td>32.000000</td>\n",
       "      <td>3.000000</td>\n",
       "      <td>0.000000</td>\n",
       "      <td>1.000000</td>\n",
       "      <td>0.00000</td>\n",
       "      <td>0.000000</td>\n",
       "      <td>51002.110000</td>\n",
       "      <td>0.000000</td>\n",
       "    </tr>\n",
       "    <tr>\n",
       "      <th>50%</th>\n",
       "      <td>652.000000</td>\n",
       "      <td>37.000000</td>\n",
       "      <td>5.000000</td>\n",
       "      <td>97198.540000</td>\n",
       "      <td>1.000000</td>\n",
       "      <td>1.00000</td>\n",
       "      <td>1.000000</td>\n",
       "      <td>100193.915000</td>\n",
       "      <td>0.000000</td>\n",
       "    </tr>\n",
       "    <tr>\n",
       "      <th>75%</th>\n",
       "      <td>718.000000</td>\n",
       "      <td>44.000000</td>\n",
       "      <td>7.000000</td>\n",
       "      <td>127644.240000</td>\n",
       "      <td>2.000000</td>\n",
       "      <td>1.00000</td>\n",
       "      <td>1.000000</td>\n",
       "      <td>149388.247500</td>\n",
       "      <td>0.000000</td>\n",
       "    </tr>\n",
       "    <tr>\n",
       "      <th>max</th>\n",
       "      <td>850.000000</td>\n",
       "      <td>92.000000</td>\n",
       "      <td>10.000000</td>\n",
       "      <td>250898.090000</td>\n",
       "      <td>4.000000</td>\n",
       "      <td>1.00000</td>\n",
       "      <td>1.000000</td>\n",
       "      <td>199992.480000</td>\n",
       "      <td>1.000000</td>\n",
       "    </tr>\n",
       "  </tbody>\n",
       "</table>\n",
       "</div>"
      ],
      "text/plain": [
       "        CreditScore           Age        Tenure        Balance  NumOfProducts  \\\n",
       "count  10000.000000  10000.000000  10000.000000   10000.000000   10000.000000   \n",
       "mean     650.528800     38.921800      5.012800   76485.889288       1.530200   \n",
       "std       96.653299     10.487806      2.892174   62397.405202       0.581654   \n",
       "min      350.000000     18.000000      0.000000       0.000000       1.000000   \n",
       "25%      584.000000     32.000000      3.000000       0.000000       1.000000   \n",
       "50%      652.000000     37.000000      5.000000   97198.540000       1.000000   \n",
       "75%      718.000000     44.000000      7.000000  127644.240000       2.000000   \n",
       "max      850.000000     92.000000     10.000000  250898.090000       4.000000   \n",
       "\n",
       "         HasCrCard  IsActiveMember  EstimatedSalary        Exited  \n",
       "count  10000.00000    10000.000000     10000.000000  10000.000000  \n",
       "mean       0.70550        0.515100    100090.239881      0.203700  \n",
       "std        0.45584        0.499797     57510.492818      0.402769  \n",
       "min        0.00000        0.000000        11.580000      0.000000  \n",
       "25%        0.00000        0.000000     51002.110000      0.000000  \n",
       "50%        1.00000        1.000000    100193.915000      0.000000  \n",
       "75%        1.00000        1.000000    149388.247500      0.000000  \n",
       "max        1.00000        1.000000    199992.480000      1.000000  "
      ]
     },
     "execution_count": 13,
     "metadata": {},
     "output_type": "execute_result"
    }
   ],
   "source": [
    "#statistics of the data\n",
    "stats = data.describe()\n",
    "stats"
   ]
  },
  {
   "cell_type": "code",
   "execution_count": 14,
   "metadata": {
    "pycharm": {
     "name": "#%%\n"
    }
   },
   "outputs": [
    {
     "data": {
      "text/plain": [
       "<AxesSubplot:xlabel='Exited', ylabel='count'>"
      ]
     },
     "execution_count": 14,
     "metadata": {},
     "output_type": "execute_result"
    },
    {
     "data": {
      "image/png": "[encoded data removed]",
      "text/plain": [
       "<Figure size 1080x576 with 1 Axes>"
      ]
     },
     "metadata": {
      "needs_background": "light"
     },
     "output_type": "display_data"
    }
   ],
   "source": [
    "# VISUALIZATION\n",
    "# Analyzing target variable\n",
    "plt.figure(figsize = (15,8))\n",
    "sns.countplot('Exited', data = data)"
   ]
  },
  {
   "cell_type": "code",
   "execution_count": 15,
   "metadata": {
    "pycharm": {
     "name": "#%%\n"
    }
   },
   "outputs": [
    {
     "name": "stdout",
     "output_type": "stream",
     "text": [
      "Male      5457\n",
      "Female    4543\n",
      "Name: Gender, dtype: int64\n"
     ]
    },
    {
     "data": {
      "image/png": "[encoded data removed]",
      "text/plain": [
       "<Figure size 1080x576 with 1 Axes>"
      ]
     },
     "metadata": {
      "needs_background": "light"
     },
     "output_type": "display_data"
    },
    {
     "name": "stdout",
     "output_type": "stream",
     "text": [
      "2     1048\n",
      "1     1035\n",
      "7     1028\n",
      "8     1025\n",
      "5     1012\n",
      "3     1009\n",
      "4      989\n",
      "9      984\n",
      "6      967\n",
      "10     490\n",
      "0      413\n",
      "Name: Tenure, dtype: int64\n"
     ]
    },
    {
     "data": {
      "image/png": "[encoded data removed]",
      "text/plain": [
       "<Figure size 1080x576 with 1 Axes>"
      ]
     },
     "metadata": {
      "needs_background": "light"
     },
     "output_type": "display_data"
    },
    {
     "name": "stdout",
     "output_type": "stream",
     "text": [
      "France     5014\n",
      "Germany    2509\n",
      "Spain      2477\n",
      "Name: Geography, dtype: int64\n"
     ]
    },
    {
     "data": {
      "image/png": "[encoded data removed]",
      "text/plain": [
       "<Figure size 1080x576 with 1 Axes>"
      ]
     },
     "metadata": {
      "needs_background": "light"
     },
     "output_type": "display_data"
    },
    {
     "name": "stdout",
     "output_type": "stream",
     "text": [
      "1    5084\n",
      "2    4590\n",
      "3     266\n",
      "4      60\n",
      "Name: NumOfProducts, dtype: int64\n"
     ]
    },
    {
     "data": {
      "image/png": "[encoded data removed]",
      "text/plain": [
       "<Figure size 1080x576 with 1 Axes>"
      ]
     },
     "metadata": {
      "needs_background": "light"
     },
     "output_type": "display_data"
    },
    {
     "name": "stdout",
     "output_type": "stream",
     "text": [
      "1    7055\n",
      "0    2945\n",
      "Name: HasCrCard, dtype: int64\n"
     ]
    },
    {
     "data": {
      "image/png": "[encoded data removed]",
      "text/plain": [
       "<Figure size 1080x576 with 1 Axes>"
      ]
     },
     "metadata": {
      "needs_background": "light"
     },
     "output_type": "display_data"
    },
    {
     "name": "stdout",
     "output_type": "stream",
     "text": [
      "1    5151\n",
      "0    4849\n",
      "Name: IsActiveMember, dtype: int64\n"
     ]
    },
    {
     "data": {
      "image/png": "[encoded data removed]",
      "text/plain": [
       "<Figure size 1080x576 with 1 Axes>"
      ]
     },
     "metadata": {
      "needs_background": "light"
     },
     "output_type": "display_data"
    }
   ],
   "source": [
    "## Analyzing how categorical data relates with the target variable (exited)\n",
    "cat_data = data[['Gender', 'Tenure', 'Geography', 'NumOfProducts', 'HasCrCard', 'IsActiveMember']]\n",
    "\n",
    "\n",
    "def categorical(var):\n",
    "    print(data[var].value_counts())\n",
    "\n",
    "    plt.figure(figsize=(15, 8))\n",
    "    sns.countplot(x=var, data=data, hue='Exited')\n",
    "    plt.show()\n",
    "\n",
    "\n",
    "for i in cat_data:\n",
    "    categorical(i)"
   ]
  },
  {
   "cell_type": "code",
   "execution_count": 16,
   "metadata": {
    "pycharm": {
     "name": "#%%\n"
    }
   },
   "outputs": [
    {
     "data": {
      "image/png": "[encoded data removed]",
      "text/plain": [
       "<Figure size 432x288 with 1 Axes>"
      ]
     },
     "metadata": {
      "needs_background": "light"
     },
     "output_type": "display_data"
    },
    {
     "data": {
      "image/png": "[encoded data removed]",
      "text/plain": [
       "<Figure size 432x288 with 1 Axes>"
      ]
     },
     "metadata": {
      "needs_background": "light"
     },
     "output_type": "display_data"
    },
    {
     "data": {
      "image/png": "[encoded data removed]",
      "text/plain": [
       "<Figure size 432x288 with 1 Axes>"
      ]
     },
     "metadata": {
      "needs_background": "light"
     },
     "output_type": "display_data"
    },
    {
     "data": {
      "image/png": "[encoded data removed]",
      "text/plain": [
       "<Figure size 432x288 with 1 Axes>"
      ]
     },
     "metadata": {
      "needs_background": "light"
     },
     "output_type": "display_data"
    }
   ],
   "source": [
    "# Analyzing numerical data\n",
    "Num_data = data[['Age', 'CreditScore', 'Balance', 'EstimatedSalary']]\n",
    "\n",
    "\n",
    "def numerical(var):\n",
    "    plt.hist(data[var], bins=20, color=\"brown\")\n",
    "    plt.xlabel(var)\n",
    "    plt.ylabel(\"Frequency\")\n",
    "    plt.title(\"{} variable distribution\".format(var))\n",
    "    plt.show()\n",
    "\n",
    "\n",
    "for i in Num_data:\n",
    "    numerical(i)"
   ]
  },
  {
   "cell_type": "code",
   "execution_count": 17,
   "metadata": {
    "pycharm": {
     "name": "#%%\n"
    }
   },
   "outputs": [
    {
     "data": {
      "image/png": "[encoded data removed]",
      "text/plain": [
       "<Figure size 432x288 with 1 Axes>"
      ]
     },
     "metadata": {
      "needs_background": "light"
     },
     "output_type": "display_data"
    },
    {
     "data": {
      "image/png": "[encoded data removed]",
      "text/plain": [
       "<Figure size 432x288 with 1 Axes>"
      ]
     },
     "metadata": {
      "needs_background": "light"
     },
     "output_type": "display_data"
    },
    {
     "data": {
      "image/png": "[encoded data removed]",
      "text/plain": [
       "<Figure size 432x288 with 1 Axes>"
      ]
     },
     "metadata": {
      "needs_background": "light"
     },
     "output_type": "display_data"
    },
    {
     "data": {
      "image/png": "[encoded data removed]",
      "text/plain": [
       "<Figure size 432x288 with 1 Axes>"
      ]
     },
     "metadata": {
      "needs_background": "light"
     },
     "output_type": "display_data"
    },
    {
     "data": {
      "image/png": "[encoded data removed]",
      "text/plain": [
       "<Figure size 432x288 with 1 Axes>"
      ]
     },
     "metadata": {
      "needs_background": "light"
     },
     "output_type": "display_data"
    },
    {
     "data": {
      "image/png": "[encoded data removed]",
      "text/plain": [
       "<Figure size 432x288 with 1 Axes>"
      ]
     },
     "metadata": {
      "needs_background": "light"
     },
     "output_type": "display_data"
    }
   ],
   "source": [
    "list_order = ['CreditScore', 'Age', 'Tenure', 'Balance', 'NumOfProducts', 'EstimatedSalary']\n",
    "\n",
    "\n",
    "def viz_outliers(var):\n",
    "    sns.boxplot(data[var])\n",
    "    plt.show()\n",
    "\n",
    "\n",
    "for i in list_order:\n",
    "    viz_outliers(i)"
   ]
  },
  {
   "cell_type": "code",
   "execution_count": 18,
   "metadata": {
    "pycharm": {
     "name": "#%%\n"
    }
   },
   "outputs": [],
   "source": [
    "# Seems like CreditScore, Age, NumOfProducts have outliers\n",
    "outliers = ['Age', 'CreditScore', 'NumOfProducts']\n",
    "\n",
    "\n",
    "# create a function to remove the outliers\n",
    "def outlier_removal(data, column):\n",
    "    q1 = data[column].quantile(0.25)\n",
    "    q3 = data[column].quantile(0.75)\n",
    "    iqr = q3 - q1\n",
    "    point_low = q1 - 1.5 * iqr\n",
    "    point_high = q3 + 1.5 * iqr\n",
    "    cleaned_data = data.loc[(data[column] > point_low) & (data[column] < point_high)]\n",
    "    return cleaned_data\n"
   ]
  },
  {
   "cell_type": "code",
   "execution_count": 19,
   "metadata": {
    "pycharm": {
     "name": "#%%\n"
    }
   },
   "outputs": [
    {
     "name": "stdout",
     "output_type": "stream",
     "text": [
      "(10000, 11)\n",
      "(9516, 11)\n"
     ]
    }
   ],
   "source": [
    "# Seems like CreditScore, Age, NumOfProducts have outliers\n",
    "outliers = ['Age', 'CreditScore', 'NumOfProducts']\n",
    "\n",
    "\n",
    "# create a function to remove the outliers\n",
    "def outlier_removal(data, column):\n",
    "    q1 = data[column].quantile(0.25)\n",
    "    q3 = data[column].quantile(0.75)\n",
    "    iqr = q3 - q1\n",
    "    point_low = q1 - 1.5 * iqr\n",
    "    point_high = q3 + 1.5 * iqr\n",
    "    cleaned_data = data.loc[(data[column] > point_low) & (data[column] < point_high)]\n",
    "    return cleaned_data\n",
    "\n",
    "\n",
    "# clean the dataset by removing outliers\n",
    "data_cleaned = outlier_removal(outlier_removal(outlier_removal(data, 'Age'), 'CreditScore'), 'NumOfProducts')\n",
    "\n",
    "print(data.shape)\n",
    "print(data_cleaned.shape)"
   ]
  },
  {
   "cell_type": "code",
   "execution_count": 20,
   "metadata": {
    "pycharm": {
     "name": "#%%\n"
    }
   },
   "outputs": [
    {
     "data": {
      "text/plain": [
       "<AxesSubplot:>"
      ]
     },
     "execution_count": 20,
     "metadata": {},
     "output_type": "execute_result"
    },
    {
     "data": {
      "image/png": "[encoded data removed]",
      "text/plain": [
       "<Figure size 1080x576 with 2 Axes>"
      ]
     },
     "metadata": {
      "needs_background": "light"
     },
     "output_type": "display_data"
    }
   ],
   "source": [
    "# CORRELATION MATRIX OF THE DATA\n",
    "plt.figure(figsize = (15,8))\n",
    "list_corr = ['CreditScore' ,'Age' ,'Tenure' ,'Balance' ,'NumOfProducts' ,'EstimatedSalary' ,'Exited']\n",
    "sns.heatmap(data_cleaned[list_corr].corr(), annot = True, linecolor = \"black\", lw = 0.5, fmt= '.2f')"
   ]
  },
  {
   "cell_type": "code",
   "execution_count": 21,
   "metadata": {
    "pycharm": {
     "name": "#%%\n"
    }
   },
   "outputs": [
    {
     "data": {
      "text/plain": [
       "<AxesSubplot:xlabel='Age', ylabel='Exited'>"
      ]
     },
     "execution_count": 21,
     "metadata": {},
     "output_type": "execute_result"
    },
    {
     "data": {
      "image/png": "[encoded data removed]",
      "text/plain": [
       "<Figure size 1080x576 with 1 Axes>"
      ]
     },
     "metadata": {
      "needs_background": "light"
     },
     "output_type": "display_data"
    }
   ],
   "source": [
    "## Analyzing how numerical variable relates with the target variable (exited)\n",
    "# AGE AND EXIT\n",
    "plt.figure(figsize = (15,8))\n",
    "sns.lineplot(x = \"Age\", y = \"Exited\", data = data_cleaned)"
   ]
  },
  {
   "cell_type": "code",
   "execution_count": 22,
   "metadata": {
    "pycharm": {
     "name": "#%%\n"
    }
   },
   "outputs": [
    {
     "data": {
      "text/plain": [
       "Exited\n",
       "0    36.089197\n",
       "1    43.793583\n",
       "Name: Age, dtype: float64"
      ]
     },
     "execution_count": 22,
     "metadata": {},
     "output_type": "execute_result"
    }
   ],
   "source": [
    "data_cleaned.groupby(data_cleaned[\"Exited\"])[\"Age\"].mean()"
   ]
  },
  {
   "cell_type": "code",
   "execution_count": 23,
   "metadata": {
    "pycharm": {
     "name": "#%%\n"
    }
   },
   "outputs": [],
   "source": [
    "# FEATURE ENGINEERING\n",
    "# since geography is a categorical data lets one-hot encode it by using pd.get_dummies\n",
    "data_cleaned = pd.get_dummies(data_cleaned, columns = ['Geography'])\n",
    "\n",
    "# since gender is a categorical data lets label encode it as female = 1 and male = 0\n",
    "def func(data_cleaned):\n",
    "    d =[]\n",
    "    for m in data_cleaned:\n",
    "        if m =='Female':\n",
    "            d.append(1)\n",
    "        else:\n",
    "            d.append(0)\n",
    "    return d\n",
    "\n",
    "data_cleaned['Gender'] = func(data_cleaned['Gender'])"
   ]
  },
  {
   "cell_type": "code",
   "execution_count": 24,
   "metadata": {
    "pycharm": {
     "name": "#%%\n"
    }
   },
   "outputs": [
    {
     "name": "stdout",
     "output_type": "stream",
     "text": [
      "<class 'pandas.core.frame.DataFrame'>\n",
      "Int64Index: 9516 entries, 0 to 9999\n",
      "Data columns (total 13 columns):\n",
      " #   Column             Non-Null Count  Dtype  \n",
      "---  ------             --------------  -----  \n",
      " 0   CreditScore        9516 non-null   int64  \n",
      " 1   Gender             9516 non-null   int64  \n",
      " 2   Age                9516 non-null   int64  \n",
      " 3   Tenure             9516 non-null   int64  \n",
      " 4   Balance            9516 non-null   float64\n",
      " 5   NumOfProducts      9516 non-null   int64  \n",
      " 6   HasCrCard          9516 non-null   int64  \n",
      " 7   IsActiveMember     9516 non-null   int64  \n",
      " 8   EstimatedSalary    9516 non-null   float64\n",
      " 9   Exited             9516 non-null   int64  \n",
      " 10  Geography_France   9516 non-null   uint8  \n",
      " 11  Geography_Germany  9516 non-null   uint8  \n",
      " 12  Geography_Spain    9516 non-null   uint8  \n",
      "dtypes: float64(2), int64(8), uint8(3)\n",
      "memory usage: 1.1 MB\n"
     ]
    }
   ],
   "source": [
    "data_cleaned.info()"
   ]
  },
  {
   "cell_type": "code",
   "execution_count": 25,
   "metadata": {
    "pycharm": {
     "name": "#%%\n"
    }
   },
   "outputs": [],
   "source": [
    "# MODELLING\n",
    "x = data_cleaned.drop('Exited', axis=1)\n",
    "y = data_cleaned['Exited']\n",
    "#splitting data into test and train set\n",
    "x_train, x_test, y_train, y_test = train_test_split(x,\n",
    "                                                    y,\n",
    "                                                    test_size=0.3,\n",
    "                                                    random_state=42\n",
    "                                                    )"
   ]
  },
  {
   "cell_type": "code",
   "execution_count": 26,
   "metadata": {
    "pycharm": {
     "name": "#%%\n"
    }
   },
   "outputs": [
    {
     "name": "stdout",
     "output_type": "stream",
     "text": [
      "              precision    recall  f1-score   support\n",
      "\n",
      "           0       0.81      0.98      0.89      2277\n",
      "           1       0.50      0.09      0.16       578\n",
      "\n",
      "    accuracy                           0.80      2855\n",
      "   macro avg       0.66      0.54      0.52      2855\n",
      "weighted avg       0.75      0.80      0.74      2855\n",
      "\n",
      "Accuracy score of Logistic Regression model:  0.7978984238178634\n"
     ]
    }
   ],
   "source": [
    "# LogisticRegression\n",
    "Lr = LogisticRegression() # algorithm instantiation\n",
    "Lr.fit(x_train, y_train) # model learning\n",
    "\n",
    "# make your predictions on the test data\n",
    "pred = Lr.predict(x_test)\n",
    "\n",
    "print(classification_report(y_test, pred, digits=2))\n",
    "\n",
    "# evaluate the test data using accuracy score\n",
    "print(\"Accuracy score of Logistic Regression model: \", accuracy_score(y_test, pred))"
   ]
  },
  {
   "cell_type": "code",
   "execution_count": 27,
   "metadata": {
    "pycharm": {
     "name": "#%%\n"
    }
   },
   "outputs": [],
   "source": [
    "#Perform feature scaling (standardization) using standardscalar()\n",
    "sc = StandardScaler()\n",
    "xstandard_train = sc.fit_transform(x_train)\n",
    "xstandard_test = sc.transform (x_test)"
   ]
  },
  {
   "cell_type": "code",
   "execution_count": 28,
   "metadata": {
    "pycharm": {
     "name": "#%%\n"
    }
   },
   "outputs": [
    {
     "name": "stdout",
     "output_type": "stream",
     "text": [
      "              precision    recall  f1-score   support\n",
      "\n",
      "           0       0.84      0.97      0.90      2277\n",
      "           1       0.70      0.27      0.39       578\n",
      "\n",
      "    accuracy                           0.83      2855\n",
      "   macro avg       0.77      0.62      0.64      2855\n",
      "weighted avg       0.81      0.83      0.80      2855\n",
      "\n",
      "Accuracy score of Standardised Logistic Regression model:  0.8287215411558669\n"
     ]
    }
   ],
   "source": [
    "Lr_s = LogisticRegression() # algorithm instantiation\n",
    "Lr_s.fit(xstandard_train, y_train)\n",
    "\n",
    "pred = Lr_s.predict(xstandard_test)\n",
    "\n",
    "print(classification_report(y_test, pred, digits=2))\n",
    "Lr_score = accuracy_score(y_test, pred)\n",
    "print(\"Accuracy score of Standardised Logistic Regression model: \", accuracy_score(y_test, pred))"
   ]
  },
  {
   "cell_type": "code",
   "execution_count": 29,
   "metadata": {
    "pycharm": {
     "name": "#%%\n"
    }
   },
   "outputs": [
    {
     "name": "stdout",
     "output_type": "stream",
     "text": [
      "              precision    recall  f1-score   support\n",
      "\n",
      "           0       0.86      0.98      0.91      2277\n",
      "           1       0.81      0.35      0.49       578\n",
      "\n",
      "    accuracy                           0.85      2855\n",
      "   macro avg       0.83      0.66      0.70      2855\n",
      "weighted avg       0.85      0.85      0.83      2855\n",
      "\n",
      "Accuracy score of SVC model:  0.8518388791593695\n"
     ]
    }
   ],
   "source": [
    "# SVC\n",
    "svc = SVC(probability = True) # algorithm instantiation\n",
    "svc.fit(xstandard_train, y_train)\n",
    "\n",
    "pred = svc.predict(xstandard_test)\n",
    "\n",
    "print(classification_report(y_test, pred, digits=2))\n",
    "svc_score = accuracy_score(y_test, pred)\n",
    "print(\"Accuracy score of SVC model: \", accuracy_score(y_test, pred))"
   ]
  },
  {
   "cell_type": "code",
   "execution_count": 30,
   "metadata": {
    "pycharm": {
     "name": "#%%\n"
    }
   },
   "outputs": [
    {
     "name": "stdout",
     "output_type": "stream",
     "text": [
      "              precision    recall  f1-score   support\n",
      "\n",
      "           0       0.85      0.95      0.89      2277\n",
      "           1       0.60      0.33      0.42       578\n",
      "\n",
      "    accuracy                           0.82      2855\n",
      "   macro avg       0.73      0.64      0.66      2855\n",
      "weighted avg       0.80      0.82      0.80      2855\n",
      "\n",
      "Accuracy score of KNN model:  0.8203152364273205\n"
     ]
    }
   ],
   "source": [
    "#KNN\n",
    "knn = KNeighborsClassifier(n_neighbors = 5) # algorithm instantiation\n",
    "knn.fit(xstandard_train, y_train)\n",
    "\n",
    "pred = knn.predict(xstandard_test)\n",
    "\n",
    "print(classification_report(y_test, pred, digits=2))\n",
    "knn_score = accuracy_score(y_test, pred)\n",
    "print(\"Accuracy score of KNN model: \", accuracy_score(y_test, pred))"
   ]
  },
  {
   "cell_type": "code",
   "execution_count": 31,
   "metadata": {
    "pycharm": {
     "name": "#%%\n"
    }
   },
   "outputs": [
    {
     "name": "stdout",
     "output_type": "stream",
     "text": [
      "              precision    recall  f1-score   support\n",
      "\n",
      "           0       0.87      0.97      0.92      2277\n",
      "           1       0.77      0.45      0.57       578\n",
      "\n",
      "    accuracy                           0.86      2855\n",
      "   macro avg       0.82      0.71      0.74      2855\n",
      "weighted avg       0.85      0.86      0.85      2855\n",
      "\n",
      "Accuracy score of Random Forest model:  0.8619964973730297\n"
     ]
    }
   ],
   "source": [
    "# RandomForestClassifier\n",
    "rand = RandomForestClassifier(random_state = 42)\n",
    "\n",
    "rand.fit(x_train, y_train)\n",
    "pred = rand.predict(x_test)\n",
    "\n",
    "print(classification_report(y_test, pred, digits=2))\n",
    "rand_score = accuracy_score(y_test, pred)\n",
    "print(\"Accuracy score of Random Forest model: \", accuracy_score(y_test, pred))"
   ]
  },
  {
   "cell_type": "code",
   "execution_count": null,
   "metadata": {
    "pycharm": {
     "is_executing": true,
     "name": "#%%\n"
    }
   },
   "outputs": [],
   "source": [
    "rand = RandomForestClassifier(random_state = 42, max_depth = 10, n_estimators = 1000)\n",
    "\n",
    "rand.fit(x, y)\n",
    "\n",
    "scoreRand = cross_val_score(rand, x, y, cv=5, scoring='accuracy')\n",
    "print ('The mean value of cross val score is {}'.format(scoreRand.mean()))"
   ]
  },
  {
   "cell_type": "code",
   "execution_count": null,
   "metadata": {
    "pycharm": {
     "is_executing": true,
     "name": "#%%\n"
    }
   },
   "outputs": [],
   "source": [
    "# XGBClassifier\n",
    "xgb =XGBClassifier(learning_rate=0.01,n_estimators=200,\n",
    "                            max_depth=5, eval_metric=\"logloss\")\n",
    "\n",
    "xgb.fit(x_train, y_train)\n",
    "pred = xgb.predict(x_test)\n",
    "\n",
    "print(classification_report(y_test, pred, digits=2))\n",
    "xgb_score = accuracy_score(y_test, pred)\n",
    "print(\"Accuracy score of XGB model: \", accuracy_score(y_test, pred))"
   ]
  },
  {
   "cell_type": "code",
   "execution_count": null,
   "metadata": {
    "pycharm": {
     "is_executing": true,
     "name": "#%%\n"
    }
   },
   "outputs": [],
   "source": [
    "xgb =XGBClassifier()\n",
    "xgb.fit(x, y)\n",
    "\n",
    "scoreXGB = cross_val_score(xgb, x, y, cv=10, scoring='accuracy')\n",
    "print ('The mean value of cross val score is {}'.format(scoreXGB.mean()))"
   ]
  },
  {
   "cell_type": "code",
   "execution_count": null,
   "metadata": {
    "pycharm": {
     "is_executing": true,
     "name": "#%%\n"
    }
   },
   "outputs": [],
   "source": [
    "# GradientBoostingClassifier\n",
    "model_grb = GradientBoostingClassifier()\n",
    "\n",
    "model_grb.fit(x_train,y_train)\n",
    "\n",
    "pred = model_grb.predict(x_test)\n",
    "\n",
    "print(classification_report(y_test, pred, digits=2))\n",
    "grb_score = accuracy_score(y_test, pred)\n",
    "print(\"Accuracy score of Gradient Boost model: \", accuracy_score(y_test, pred))"
   ]
  },
  {
   "cell_type": "code",
   "execution_count": null,
   "metadata": {
    "pycharm": {
     "is_executing": true,
     "name": "#%%\n"
    }
   },
   "outputs": [],
   "source": [
    "model_grb = GradientBoostingClassifier()\n",
    "model_grb.fit(x, y)\n",
    "\n",
    "scoreGRB = cross_val_score(model_grb, x, y, cv=10, scoring='accuracy')\n",
    "print ('The mean value of cross val score is {}'.format(scoreGRB.mean()))"
   ]
  },
  {
   "cell_type": "code",
   "execution_count": null,
   "metadata": {
    "pycharm": {
     "is_executing": true,
     "name": "#%%\n"
    }
   },
   "outputs": [],
   "source": []
  },
  {
   "cell_type": "code",
   "execution_count": null,
   "metadata": {
    "pycharm": {
     "is_executing": true,
     "name": "#%%\n"
    }
   },
   "outputs": [],
   "source": [
    "# LGBM_Model\n",
    "lgbm_model = LGBMClassifier(silent = 0, learning_rate = 0.09, max_delta_step = 2, n_estimators = 100, boosting_type = 'gbdt',\n",
    "                            max_depth = 10, eval_metric = \"logloss\", gamma = 3, base_score = 0.5)\n",
    "\n",
    "lgbm_model.fit(x_train, y_train)\n",
    "y_pred = lgbm_model.predict(x_test)\n",
    "print(classification_report(y_test, y_pred, digits=2))\n",
    "lgbm_score = accuracy_score(y_test, y_pred)\n",
    "print(\"Accuracy score of tuned LightGBM model: \", accuracy_score(y_test, y_pred))"
   ]
  },
  {
   "cell_type": "code",
   "execution_count": null,
   "metadata": {
    "pycharm": {
     "is_executing": true,
     "name": "#%%\n"
    }
   },
   "outputs": [],
   "source": [
    "# CatBoostClassifier\n",
    "#Instantiate CatBoostClassifier\n",
    "catboost = CatBoostClassifier()\n",
    "\n",
    "#create the grid\n",
    "grid = {'max_depth': [3,4,5],'n_estimators':[100, 200, 300]}\n",
    "\n",
    "#Instantiate GridSearchCV\n",
    "gscv = GridSearchCV (estimator = catboost, param_grid = grid, scoring ='accuracy', cv = 5)\n",
    "\n",
    "#fit the model\n",
    "gscv.fit(x_train,y_train)\n",
    "\n",
    "#returns the estimator with the best performance\n",
    "print(gscv.best_estimator_)\n",
    "\n",
    "#returns the best score\n",
    "print(gscv.best_score_)\n",
    "\n",
    "#returns the best parameters\n",
    "print(gscv.best_params_)"
   ]
  },
  {
   "cell_type": "code",
   "execution_count": null,
   "metadata": {
    "pycharm": {
     "is_executing": true,
     "name": "#%%\n"
    }
   },
   "outputs": [],
   "source": [
    "cat = CatBoostClassifier(max_depth = 4, n_estimators = 200 , verbose=0)\n",
    "\n",
    "cat.fit(x_train, y_train)\n",
    "pred = cat.predict(x_test)\n",
    "\n",
    "print(classification_report(y_test, pred, digits=2))\n",
    "cat_score = accuracy_score(y_test, pred)\n",
    "print(\"Accuracy score of CatBoost model: \", accuracy_score(y_test, pred))"
   ]
  },
  {
   "cell_type": "code",
   "execution_count": null,
   "metadata": {
    "pycharm": {
     "is_executing": true,
     "name": "#%%\n"
    }
   },
   "outputs": [],
   "source": [
    "cat = CatBoostClassifier(max_depth=4, n_estimators=1000, verbose=0)\n",
    "\n",
    "cat_tuned = cat.fit(x, y)\n",
    "scoreCat = cross_val_score(cat, x, y, cv=5, scoring='accuracy')\n",
    "print ('The mean value of cross val score is {}'.format(scoreCat.mean()))"
   ]
  },
  {
   "cell_type": "code",
   "execution_count": null,
   "metadata": {
    "pycharm": {
     "is_executing": true,
     "name": "#%%\n"
    }
   },
   "outputs": [],
   "source": [
    "# EMSEMBLE\n",
    "model = VotingClassifier(estimators=[('catboost', cat), ('LGBM', lgbm_model), ('GradientBoost', model_grb), ('randomforest', rand)], voting='hard')\n",
    "model.fit(x_train,y_train)\n",
    "model.score(x_test,y_test)"
   ]
  },
  {
   "cell_type": "code",
   "execution_count": null,
   "metadata": {
    "pycharm": {
     "is_executing": true,
     "name": "#%%\n"
    }
   },
   "outputs": [],
   "source": [
    "model_data =[['LightGBM Classifier', lgbm_score],\n",
    "             ['Random Forest Classifier', rand_score],\n",
    "             ['Catboost Classifier', cat_score],\n",
    "             ['XGB Classifier', xgb_score],\n",
    "             ['Gradient Boost Classifier', grb_score],\n",
    "             ['SVM Classifier', svc_score],\n",
    "             ['Logistic Regression', Lr_score],\n",
    "             ['KNN Classifier', knn_score]]\n",
    "\n",
    "indexes = [1,2,3,4,5,6,7,8]\n",
    "columns_name = ['MODEL', 'ACCURACY_SCORE']\n",
    "ife = pd.DataFrame(data = model_data,index = indexes, columns = columns_name )\n",
    "print(ife)"
   ]
  },
  {
   "cell_type": "code",
   "execution_count": null,
   "metadata": {
    "pycharm": {
     "is_executing": true,
     "name": "#%%\n"
    }
   },
   "outputs": [],
   "source": [
    "# Evaluate model using Area under Curve to evaluate best performed model\n",
    "\n",
    "plot_roc_curve(cat, x_test, y_test)\n",
    "plot_roc_curve(rand, x_test, y_test)\n",
    "plot_roc_curve(model_grb, x_test, y_test)\n",
    "plot_roc_curve(svc, x_test, y_test)\n",
    "plot_roc_curve(knn, x_test, y_test)\n",
    "plot_roc_curve(Lr_s, x_test, y_test)\n",
    "plot_roc_curve(xgb, x_test, y_test)\n",
    "plot_roc_curve(lgbm_model, x_test, y_test)\n",
    "plt.show()\n"
   ]
  },
  {
   "cell_type": "code",
   "execution_count": null,
   "metadata": {
    "pycharm": {
     "is_executing": true,
     "name": "#%%\n"
    }
   },
   "outputs": [],
   "source": [
    "#feature importance of random forest model i.e the most importance predictive feature (variables) in the model performance\n",
    "feature_index = data_cleaned.loc[:, x.columns ]\n",
    "\n",
    "feature_importance = pd.Series(rand.feature_importances_,\n",
    "                               index=feature_index.columns).sort_values(ascending=False)\n",
    "\n",
    "sns.barplot(x = feature_importance, y = feature_importance.index, color='b')\n",
    "plt.xlabel('Variable Importance Scores')\n",
    "plt.ylabel('Variables')\n",
    "plt.title('Random Forest Feature Importance')\n",
    "plt.show()"
   ]
  },
  {
   "cell_type": "code",
   "execution_count": null,
   "metadata": {
    "pycharm": {
     "is_executing": true,
     "name": "#%%\n"
    }
   },
   "outputs": [],
   "source": []
  },
  {
   "cell_type": "code",
   "execution_count": null,
   "metadata": {
    "pycharm": {
     "is_executing": true,
     "name": "#%%\n"
    }
   },
   "outputs": [],
   "source": [
    "# DEPLOYMENT STAGE"
   ]
  },
  {
   "cell_type": "code",
   "execution_count": null,
   "metadata": {
    "pycharm": {
     "is_executing": true,
     "name": "#%%\n"
    }
   },
   "outputs": [],
   "source": [
    "# saving the model\n",
    "import pickle\n",
    "pickle_out = open(\"classifier.pkl\", mode = \"wb\")\n",
    "pickle.dump(rand, pickle_out)\n",
    "pickle_out.close()"
   ]
  },
  {
   "cell_type": "code",
   "execution_count": null,
   "metadata": {
    "pycharm": {
     "is_executing": true,
     "name": "#%%\n"
    }
   },
   "outputs": [],
   "source": [
    "# installing packages\n",
    "#We have installed 3 libraries here. pyngrok is a python wrapper for ngrok which helps to open secure tunnels from public URLs to localhost.\n",
    "#This will help us to host our web app. Streamlit will be used to make our web app.\n",
    "!pip install -q pyngrok"
   ]
  },
  {
   "cell_type": "code",
   "execution_count": null,
   "metadata": {
    "pycharm": {
     "is_executing": true,
     "name": "#%%\n"
    }
   },
   "outputs": [],
   "source": [
    "!pip install -q streamlit"
   ]
  },
  {
   "cell_type": "code",
   "execution_count": null,
   "metadata": {
    "pycharm": {
     "is_executing": true,
     "name": "#%%\n"
    }
   },
   "outputs": [],
   "source": [
    "!pip install -q streamlit_ace"
   ]
  },
  {
   "cell_type": "code",
   "execution_count": null,
   "metadata": {
    "pycharm": {
     "is_executing": true,
     "name": "#%%\n"
    }
   },
   "outputs": [],
   "source": [
    "data_cleaned.head()"
   ]
  },
  {
   "cell_type": "code",
   "execution_count": null,
   "metadata": {
    "pycharm": {
     "is_executing": true,
     "name": "#%%\n"
    }
   },
   "outputs": [],
   "source": [
    "#CreditScore, Geography, Gender, Age, Tenure, Balance, NumOfProducts, HasCrCard, IsActiveMember, EstimatedSalary, Exited"
   ]
  },
  {
   "cell_type": "code",
   "execution_count": null,
   "metadata": {
    "pycharm": {
     "is_executing": true,
     "name": "#%%writefile [-a] app.py\n"
    }
   },
   "outputs": [],
   "source": [
    "%%writefile [-a] app.py\n",
    "import pickle\n",
    "import streamlit as st\n",
    "\n",
    "# loading the trained model\n",
    "pickle_in = open('classifier.pkl', 'rb')\n",
    "classifier = pickle.load(pickle_in)\n",
    "\n",
    "\n",
    "@st.cache()\n",
    "# defining the function which will make the prediction using the data which the user inputs\n",
    "def prediction(CreditScore, Gender, Age, Tenure, Balance, NumOfProducts, HasCrCard, IsActiveMember, EstimatedSalary,\n",
    "               Geography_France, Geography_Germany, Geography_Spain):\n",
    "    # Pre-processing user input\n",
    "    if Gender == \"Male\":\n",
    "        Gender = 0\n",
    "    else:\n",
    "        Gender = 1\n",
    "\n",
    "    if HasCrCard == \"No\":\n",
    "        HasCrCard = 0\n",
    "    else:\n",
    "        HasCrCard = 1\n",
    "\n",
    "    if IsActiveMember == \"No\":\n",
    "        IsActiveMember = 0\n",
    "    else:\n",
    "        IsActiveMember = 1\n",
    "\n",
    "    if Geography_France == \"Yes\":\n",
    "        Geography_France = 1\n",
    "    else:\n",
    "        Geography_France = 0\n",
    "\n",
    "    if Geography_Spain == \"Yes\":\n",
    "        Geography_Spain = 1\n",
    "    else:\n",
    "        Geography_Spain = 0\n",
    "\n",
    "    if Geography_Germany == \"Yes\":\n",
    "        Geography_Germany = 1\n",
    "    else:\n",
    "        Geography_Germany = 0\n",
    "\n",
    "    # Making predictions\n",
    "    prediction = classifier.predict(\n",
    "        [[CreditScore, Gender, Age, Tenure, Balance, NumOfProducts, HasCrCard, IsActiveMember, EstimatedSalary,\n",
    "          Geography_France, Geography_Germany, Geography_Spain]])\n",
    "\n",
    "    if prediction == 1:\n",
    "        pred = 'Leave!'\n",
    "    else:\n",
    "        pred = 'Stay!'\n",
    "    return pred\n",
    "\n",
    "\n",
    "# this is the main function in which we define our webpage\n",
    "def main():\n",
    "    # front end elements of the web page\n",
    "    html_temp = \"\"\"\n",
    "    <div style =\"background-color:blue;padding:13px\">\n",
    "    <h1 style =\"color:black;text-align:center;\">Streamlit Bank Customer Churn Prediction ML App</h1>\n",
    "    </div>\n",
    "    <p style =\"color:white;text-align:left;\">Welcome to my App!</p>\n",
    "    \"\"\"\n",
    "\n",
    "    # display the front end aspect\n",
    "    st.markdown(html_temp, unsafe_allow_html=True)\n",
    "\n",
    "    # following lines create boxes in which user can enter data required to make prediction\n",
    "    Gender = st.selectbox(\"Customer's Gender\", (\"Male\", \"Female\"))\n",
    "    Age = st.number_input(\"Customer's Age\")\n",
    "    NumOfProducts = st.selectbox(\"Total Number of Bank Product The Customer Uses\", (\"1\", \"2\", \"3\", \"4\"))\n",
    "    Tenure = st.selectbox(\"Number of Years The Customer Has Been a Client\",\n",
    "                          (\"0\", \"1\", \"2\", \"3\", \"4\", \"5\", \"6\", \"7\", \"8\", \"9\", \"10\"))\n",
    "    HasCrCard = st.selectbox('Does The Customer has a Credit Card?', (\"Yes\", \"No\"))\n",
    "    IsActiveMember = st.selectbox('Is The Customer an Active Member?', (\"Yes\", \"No\"))\n",
    "    EstimatedSalary = st.number_input(\"Estimated Salary of Customer\")\n",
    "    Balance = st.number_input(\"Customer's Account Balance\")\n",
    "    CreditScore = st.number_input(\"Customer's Credit Score\")\n",
    "    Geography_France = st.selectbox('Is the Customer From France?', (\"Yes\", \"No\"))\n",
    "    Geography_Spain = st.selectbox('Is the Customer From Spain?', (\"Yes\", \"No\"))\n",
    "    Geography_Germany = st.selectbox('Is the Customer From Germany?', (\"Yes\", \"No\"))\n",
    "\n",
    "    result = \"\"\n",
    "\n",
    "    # when 'Predict' is clicked, make the prediction and store it\n",
    "    if st.button(\"Predict\"):\n",
    "        result = prediction(CreditScore, Gender, Age, Tenure, Balance, NumOfProducts, HasCrCard, IsActiveMember,\n",
    "                            EstimatedSalary, Geography_France, Geography_Germany, Geography_Spain)\n",
    "        st.success('The Customer will {}'.format(result))\n",
    "\n",
    "\n",
    "if __name__ == '__main__':\n",
    "    main()"
   ]
  },
  {
   "cell_type": "code",
   "execution_count": null,
   "metadata": {
    "pycharm": {
     "is_executing": true,
     "name": "#%%\n"
    }
   },
   "outputs": [],
   "source": []
  }
 ],
 "metadata": {
  "kernelspec": {
   "display_name": "Python 3 (ipykernel)",
   "language": "python",
   "name": "python3"
  },
  "language_info": {
   "codemirror_mode": {
    "name": "ipython",
    "version": 2
   },
   "file_extension": ".py",
   "mimetype": "text/x-python",
   "name": "python",
   "nbconvert_exporter": "python",
   "pygments_lexer": "ipython2",
   "version": "2.7.6"
  }
 },
 "nbformat": 4,
 "nbformat_minor": 1
}
